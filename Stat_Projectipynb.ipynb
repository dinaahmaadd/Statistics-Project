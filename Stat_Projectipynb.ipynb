{
 "cells": [
  {
   "cell_type": "code",
   "execution_count": 336,
   "id": "aabcc316-8110-469f-953f-3549d0fafc3f",
   "metadata": {},
   "outputs": [
    {
     "name": "stdout",
     "output_type": "stream",
     "text": [
      "   Pregnancies  Glucose  BloodPressure  SkinThickness  Insulin   BMI  \\\n",
      "0            6      148             72             35        0  33.6   \n",
      "1            1       85             66             29        0  26.6   \n",
      "2            8      183             64              0        0  23.3   \n",
      "3            1       89             66             23       94  28.1   \n",
      "4            0      137             40             35      168  43.1   \n",
      "\n",
      "   DiabetesPedigreeFunction  Age  Outcome  \n",
      "0                     0.627   50        1  \n",
      "1                     0.351   31        0  \n",
      "2                     0.672   32        1  \n",
      "3                     0.167   21        0  \n",
      "4                     2.288   33        1  \n"
     ]
    },
    {
     "data": {
      "text/html": [
       "<style type=\"text/css\">\n",
       "#T_3fb6f_row0_col0, #T_3fb6f_row1_col1, #T_3fb6f_row2_col2, #T_3fb6f_row3_col3, #T_3fb6f_row4_col4, #T_3fb6f_row5_col5, #T_3fb6f_row6_col6, #T_3fb6f_row7_col7, #T_3fb6f_row8_col8 {\n",
       "  background-color: #ffffff;\n",
       "  color: #000000;\n",
       "}\n",
       "#T_3fb6f_row0_col1 {\n",
       "  background-color: #5b3939;\n",
       "  color: #f1f1f1;\n",
       "}\n",
       "#T_3fb6f_row0_col2 {\n",
       "  background-color: #694242;\n",
       "  color: #f1f1f1;\n",
       "}\n",
       "#T_3fb6f_row0_col3 {\n",
       "  background-color: #391f1f;\n",
       "  color: #f1f1f1;\n",
       "}\n",
       "#T_3fb6f_row0_col4, #T_3fb6f_row0_col5, #T_3fb6f_row0_col6, #T_3fb6f_row2_col8, #T_3fb6f_row3_col0, #T_3fb6f_row3_col1, #T_3fb6f_row3_col7, #T_3fb6f_row3_col8, #T_3fb6f_row6_col2, #T_3fb6f_row7_col3 {\n",
       "  background-color: #1e0000;\n",
       "  color: #f1f1f1;\n",
       "}\n",
       "#T_3fb6f_row0_col7 {\n",
       "  background-color: #d9c29f;\n",
       "  color: #000000;\n",
       "}\n",
       "#T_3fb6f_row0_col8, #T_3fb6f_row8_col3 {\n",
       "  background-color: #825353;\n",
       "  color: #f1f1f1;\n",
       "}\n",
       "#T_3fb6f_row1_col0, #T_3fb6f_row8_col6 {\n",
       "  background-color: #8e5b5b;\n",
       "  color: #f1f1f1;\n",
       "}\n",
       "#T_3fb6f_row1_col2 {\n",
       "  background-color: #6f4646;\n",
       "  color: #f1f1f1;\n",
       "}\n",
       "#T_3fb6f_row1_col3 {\n",
       "  background-color: #7f5151;\n",
       "  color: #f1f1f1;\n",
       "}\n",
       "#T_3fb6f_row1_col4 {\n",
       "  background-color: #c2817f;\n",
       "  color: #f1f1f1;\n",
       "}\n",
       "#T_3fb6f_row1_col5, #T_3fb6f_row2_col0, #T_3fb6f_row3_col6 {\n",
       "  background-color: #925e5e;\n",
       "  color: #f1f1f1;\n",
       "}\n",
       "#T_3fb6f_row1_col6, #T_3fb6f_row5_col6 {\n",
       "  background-color: #845454;\n",
       "  color: #f1f1f1;\n",
       "}\n",
       "#T_3fb6f_row1_col7 {\n",
       "  background-color: #b97878;\n",
       "  color: #f1f1f1;\n",
       "}\n",
       "#T_3fb6f_row1_col8 {\n",
       "  background-color: #c99689;\n",
       "  color: #f1f1f1;\n",
       "}\n",
       "#T_3fb6f_row2_col1 {\n",
       "  background-color: #664040;\n",
       "  color: #f1f1f1;\n",
       "}\n",
       "#T_3fb6f_row2_col3, #T_3fb6f_row4_col1 {\n",
       "  background-color: #ac6f6f;\n",
       "  color: #f1f1f1;\n",
       "}\n",
       "#T_3fb6f_row2_col4 {\n",
       "  background-color: #7e5050;\n",
       "  color: #f1f1f1;\n",
       "}\n",
       "#T_3fb6f_row2_col5 {\n",
       "  background-color: #a56b6b;\n",
       "  color: #f1f1f1;\n",
       "}\n",
       "#T_3fb6f_row2_col6 {\n",
       "  background-color: #573636;\n",
       "  color: #f1f1f1;\n",
       "}\n",
       "#T_3fb6f_row2_col7, #T_3fb6f_row8_col7 {\n",
       "  background-color: #b47575;\n",
       "  color: #f1f1f1;\n",
       "}\n",
       "#T_3fb6f_row3_col2 {\n",
       "  background-color: #885757;\n",
       "  color: #f1f1f1;\n",
       "}\n",
       "#T_3fb6f_row3_col4 {\n",
       "  background-color: #cea590;\n",
       "  color: #000000;\n",
       "}\n",
       "#T_3fb6f_row3_col5 {\n",
       "  background-color: #c38280;\n",
       "  color: #f1f1f1;\n",
       "}\n",
       "#T_3fb6f_row4_col0 {\n",
       "  background-color: #280d0d;\n",
       "  color: #f1f1f1;\n",
       "}\n",
       "#T_3fb6f_row4_col2 {\n",
       "  background-color: #4d2f2f;\n",
       "  color: #f1f1f1;\n",
       "}\n",
       "#T_3fb6f_row4_col3 {\n",
       "  background-color: #d0aa92;\n",
       "  color: #000000;\n",
       "}\n",
       "#T_3fb6f_row4_col5, #T_3fb6f_row8_col4 {\n",
       "  background-color: #8b5959;\n",
       "  color: #f1f1f1;\n",
       "}\n",
       "#T_3fb6f_row4_col6, #T_3fb6f_row7_col1 {\n",
       "  background-color: #956060;\n",
       "  color: #f1f1f1;\n",
       "}\n",
       "#T_3fb6f_row4_col7, #T_3fb6f_row4_col8 {\n",
       "  background-color: #553434;\n",
       "  color: #f1f1f1;\n",
       "}\n",
       "#T_3fb6f_row5_col0 {\n",
       "  background-color: #643e3e;\n",
       "  color: #f1f1f1;\n",
       "}\n",
       "#T_3fb6f_row5_col1 {\n",
       "  background-color: #855555;\n",
       "  color: #f1f1f1;\n",
       "}\n",
       "#T_3fb6f_row5_col2, #T_3fb6f_row5_col4 {\n",
       "  background-color: #a16868;\n",
       "  color: #f1f1f1;\n",
       "}\n",
       "#T_3fb6f_row5_col3 {\n",
       "  background-color: #cb9c8c;\n",
       "  color: #f1f1f1;\n",
       "}\n",
       "#T_3fb6f_row5_col7 {\n",
       "  background-color: #774c4c;\n",
       "  color: #f1f1f1;\n",
       "}\n",
       "#T_3fb6f_row5_col8 {\n",
       "  background-color: #9c6565;\n",
       "  color: #f1f1f1;\n",
       "}\n",
       "#T_3fb6f_row6_col0 {\n",
       "  background-color: #482b2b;\n",
       "  color: #f1f1f1;\n",
       "}\n",
       "#T_3fb6f_row6_col1 {\n",
       "  background-color: #603c3c;\n",
       "  color: #f1f1f1;\n",
       "}\n",
       "#T_3fb6f_row6_col3 {\n",
       "  background-color: #a46a6a;\n",
       "  color: #f1f1f1;\n",
       "}\n",
       "#T_3fb6f_row6_col4 {\n",
       "  background-color: #9f6767;\n",
       "  color: #f1f1f1;\n",
       "}\n",
       "#T_3fb6f_row6_col5 {\n",
       "  background-color: #724949;\n",
       "  color: #f1f1f1;\n",
       "}\n",
       "#T_3fb6f_row6_col7 {\n",
       "  background-color: #744a4a;\n",
       "  color: #f1f1f1;\n",
       "}\n",
       "#T_3fb6f_row6_col8 {\n",
       "  background-color: #6b4444;\n",
       "  color: #f1f1f1;\n",
       "}\n",
       "#T_3fb6f_row7_col0 {\n",
       "  background-color: #d8bf9e;\n",
       "  color: #000000;\n",
       "}\n",
       "#T_3fb6f_row7_col2 {\n",
       "  background-color: #935f5f;\n",
       "  color: #f1f1f1;\n",
       "}\n",
       "#T_3fb6f_row7_col4 {\n",
       "  background-color: #3c2222;\n",
       "  color: #f1f1f1;\n",
       "}\n",
       "#T_3fb6f_row7_col5 {\n",
       "  background-color: #351d1d;\n",
       "  color: #f1f1f1;\n",
       "}\n",
       "#T_3fb6f_row7_col6 {\n",
       "  background-color: #503131;\n",
       "  color: #f1f1f1;\n",
       "}\n",
       "#T_3fb6f_row7_col8 {\n",
       "  background-color: #8a5858;\n",
       "  color: #f1f1f1;\n",
       "}\n",
       "#T_3fb6f_row8_col0 {\n",
       "  background-color: #aa6e6e;\n",
       "  color: #f1f1f1;\n",
       "}\n",
       "#T_3fb6f_row8_col1 {\n",
       "  background-color: #c99789;\n",
       "  color: #f1f1f1;\n",
       "}\n",
       "#T_3fb6f_row8_col2 {\n",
       "  background-color: #402525;\n",
       "  color: #f1f1f1;\n",
       "}\n",
       "#T_3fb6f_row8_col5 {\n",
       "  background-color: #a96d6d;\n",
       "  color: #f1f1f1;\n",
       "}\n",
       "</style>\n",
       "<table id=\"T_3fb6f\">\n",
       "  <thead>\n",
       "    <tr>\n",
       "      <th class=\"blank level0\" >&nbsp;</th>\n",
       "      <th id=\"T_3fb6f_level0_col0\" class=\"col_heading level0 col0\" >Pregnancies</th>\n",
       "      <th id=\"T_3fb6f_level0_col1\" class=\"col_heading level0 col1\" >Glucose</th>\n",
       "      <th id=\"T_3fb6f_level0_col2\" class=\"col_heading level0 col2\" >BloodPressure</th>\n",
       "      <th id=\"T_3fb6f_level0_col3\" class=\"col_heading level0 col3\" >SkinThickness</th>\n",
       "      <th id=\"T_3fb6f_level0_col4\" class=\"col_heading level0 col4\" >Insulin</th>\n",
       "      <th id=\"T_3fb6f_level0_col5\" class=\"col_heading level0 col5\" >BMI</th>\n",
       "      <th id=\"T_3fb6f_level0_col6\" class=\"col_heading level0 col6\" >DiabetesPedigreeFunction</th>\n",
       "      <th id=\"T_3fb6f_level0_col7\" class=\"col_heading level0 col7\" >Age</th>\n",
       "      <th id=\"T_3fb6f_level0_col8\" class=\"col_heading level0 col8\" >Outcome</th>\n",
       "    </tr>\n",
       "  </thead>\n",
       "  <tbody>\n",
       "    <tr>\n",
       "      <th id=\"T_3fb6f_level0_row0\" class=\"row_heading level0 row0\" >Pregnancies</th>\n",
       "      <td id=\"T_3fb6f_row0_col0\" class=\"data row0 col0\" >1.000000</td>\n",
       "      <td id=\"T_3fb6f_row0_col1\" class=\"data row0 col1\" >0.130000</td>\n",
       "      <td id=\"T_3fb6f_row0_col2\" class=\"data row0 col2\" >0.140000</td>\n",
       "      <td id=\"T_3fb6f_row0_col3\" class=\"data row0 col3\" >-0.080000</td>\n",
       "      <td id=\"T_3fb6f_row0_col4\" class=\"data row0 col4\" >-0.070000</td>\n",
       "      <td id=\"T_3fb6f_row0_col5\" class=\"data row0 col5\" >0.020000</td>\n",
       "      <td id=\"T_3fb6f_row0_col6\" class=\"data row0 col6\" >-0.030000</td>\n",
       "      <td id=\"T_3fb6f_row0_col7\" class=\"data row0 col7\" >0.540000</td>\n",
       "      <td id=\"T_3fb6f_row0_col8\" class=\"data row0 col8\" >0.220000</td>\n",
       "    </tr>\n",
       "    <tr>\n",
       "      <th id=\"T_3fb6f_level0_row1\" class=\"row_heading level0 row1\" >Glucose</th>\n",
       "      <td id=\"T_3fb6f_row1_col0\" class=\"data row1 col0\" >0.130000</td>\n",
       "      <td id=\"T_3fb6f_row1_col1\" class=\"data row1 col1\" >1.000000</td>\n",
       "      <td id=\"T_3fb6f_row1_col2\" class=\"data row1 col2\" >0.150000</td>\n",
       "      <td id=\"T_3fb6f_row1_col3\" class=\"data row1 col3\" >0.060000</td>\n",
       "      <td id=\"T_3fb6f_row1_col4\" class=\"data row1 col4\" >0.330000</td>\n",
       "      <td id=\"T_3fb6f_row1_col5\" class=\"data row1 col5\" >0.220000</td>\n",
       "      <td id=\"T_3fb6f_row1_col6\" class=\"data row1 col6\" >0.140000</td>\n",
       "      <td id=\"T_3fb6f_row1_col7\" class=\"data row1 col7\" >0.260000</td>\n",
       "      <td id=\"T_3fb6f_row1_col8\" class=\"data row1 col8\" >0.470000</td>\n",
       "    </tr>\n",
       "    <tr>\n",
       "      <th id=\"T_3fb6f_level0_row2\" class=\"row_heading level0 row2\" >BloodPressure</th>\n",
       "      <td id=\"T_3fb6f_row2_col0\" class=\"data row2 col0\" >0.140000</td>\n",
       "      <td id=\"T_3fb6f_row2_col1\" class=\"data row2 col1\" >0.150000</td>\n",
       "      <td id=\"T_3fb6f_row2_col2\" class=\"data row2 col2\" >1.000000</td>\n",
       "      <td id=\"T_3fb6f_row2_col3\" class=\"data row2 col3\" >0.210000</td>\n",
       "      <td id=\"T_3fb6f_row2_col4\" class=\"data row2 col4\" >0.090000</td>\n",
       "      <td id=\"T_3fb6f_row2_col5\" class=\"data row2 col5\" >0.280000</td>\n",
       "      <td id=\"T_3fb6f_row2_col6\" class=\"data row2 col6\" >0.040000</td>\n",
       "      <td id=\"T_3fb6f_row2_col7\" class=\"data row2 col7\" >0.240000</td>\n",
       "      <td id=\"T_3fb6f_row2_col8\" class=\"data row2 col8\" >0.070000</td>\n",
       "    </tr>\n",
       "    <tr>\n",
       "      <th id=\"T_3fb6f_level0_row3\" class=\"row_heading level0 row3\" >SkinThickness</th>\n",
       "      <td id=\"T_3fb6f_row3_col0\" class=\"data row3 col0\" >-0.080000</td>\n",
       "      <td id=\"T_3fb6f_row3_col1\" class=\"data row3 col1\" >0.060000</td>\n",
       "      <td id=\"T_3fb6f_row3_col2\" class=\"data row3 col2\" >0.210000</td>\n",
       "      <td id=\"T_3fb6f_row3_col3\" class=\"data row3 col3\" >1.000000</td>\n",
       "      <td id=\"T_3fb6f_row3_col4\" class=\"data row3 col4\" >0.440000</td>\n",
       "      <td id=\"T_3fb6f_row3_col5\" class=\"data row3 col5\" >0.390000</td>\n",
       "      <td id=\"T_3fb6f_row3_col6\" class=\"data row3 col6\" >0.180000</td>\n",
       "      <td id=\"T_3fb6f_row3_col7\" class=\"data row3 col7\" >-0.110000</td>\n",
       "      <td id=\"T_3fb6f_row3_col8\" class=\"data row3 col8\" >0.070000</td>\n",
       "    </tr>\n",
       "    <tr>\n",
       "      <th id=\"T_3fb6f_level0_row4\" class=\"row_heading level0 row4\" >Insulin</th>\n",
       "      <td id=\"T_3fb6f_row4_col0\" class=\"data row4 col0\" >-0.070000</td>\n",
       "      <td id=\"T_3fb6f_row4_col1\" class=\"data row4 col1\" >0.330000</td>\n",
       "      <td id=\"T_3fb6f_row4_col2\" class=\"data row4 col2\" >0.090000</td>\n",
       "      <td id=\"T_3fb6f_row4_col3\" class=\"data row4 col3\" >0.440000</td>\n",
       "      <td id=\"T_3fb6f_row4_col4\" class=\"data row4 col4\" >1.000000</td>\n",
       "      <td id=\"T_3fb6f_row4_col5\" class=\"data row4 col5\" >0.200000</td>\n",
       "      <td id=\"T_3fb6f_row4_col6\" class=\"data row4 col6\" >0.190000</td>\n",
       "      <td id=\"T_3fb6f_row4_col7\" class=\"data row4 col7\" >-0.040000</td>\n",
       "      <td id=\"T_3fb6f_row4_col8\" class=\"data row4 col8\" >0.130000</td>\n",
       "    </tr>\n",
       "    <tr>\n",
       "      <th id=\"T_3fb6f_level0_row5\" class=\"row_heading level0 row5\" >BMI</th>\n",
       "      <td id=\"T_3fb6f_row5_col0\" class=\"data row5 col0\" >0.020000</td>\n",
       "      <td id=\"T_3fb6f_row5_col1\" class=\"data row5 col1\" >0.220000</td>\n",
       "      <td id=\"T_3fb6f_row5_col2\" class=\"data row5 col2\" >0.280000</td>\n",
       "      <td id=\"T_3fb6f_row5_col3\" class=\"data row5 col3\" >0.390000</td>\n",
       "      <td id=\"T_3fb6f_row5_col4\" class=\"data row5 col4\" >0.200000</td>\n",
       "      <td id=\"T_3fb6f_row5_col5\" class=\"data row5 col5\" >1.000000</td>\n",
       "      <td id=\"T_3fb6f_row5_col6\" class=\"data row5 col6\" >0.140000</td>\n",
       "      <td id=\"T_3fb6f_row5_col7\" class=\"data row5 col7\" >0.040000</td>\n",
       "      <td id=\"T_3fb6f_row5_col8\" class=\"data row5 col8\" >0.290000</td>\n",
       "    </tr>\n",
       "    <tr>\n",
       "      <th id=\"T_3fb6f_level0_row6\" class=\"row_heading level0 row6\" >DiabetesPedigreeFunction</th>\n",
       "      <td id=\"T_3fb6f_row6_col0\" class=\"data row6 col0\" >-0.030000</td>\n",
       "      <td id=\"T_3fb6f_row6_col1\" class=\"data row6 col1\" >0.140000</td>\n",
       "      <td id=\"T_3fb6f_row6_col2\" class=\"data row6 col2\" >0.040000</td>\n",
       "      <td id=\"T_3fb6f_row6_col3\" class=\"data row6 col3\" >0.180000</td>\n",
       "      <td id=\"T_3fb6f_row6_col4\" class=\"data row6 col4\" >0.190000</td>\n",
       "      <td id=\"T_3fb6f_row6_col5\" class=\"data row6 col5\" >0.140000</td>\n",
       "      <td id=\"T_3fb6f_row6_col6\" class=\"data row6 col6\" >1.000000</td>\n",
       "      <td id=\"T_3fb6f_row6_col7\" class=\"data row6 col7\" >0.030000</td>\n",
       "      <td id=\"T_3fb6f_row6_col8\" class=\"data row6 col8\" >0.170000</td>\n",
       "    </tr>\n",
       "    <tr>\n",
       "      <th id=\"T_3fb6f_level0_row7\" class=\"row_heading level0 row7\" >Age</th>\n",
       "      <td id=\"T_3fb6f_row7_col0\" class=\"data row7 col0\" >0.540000</td>\n",
       "      <td id=\"T_3fb6f_row7_col1\" class=\"data row7 col1\" >0.260000</td>\n",
       "      <td id=\"T_3fb6f_row7_col2\" class=\"data row7 col2\" >0.240000</td>\n",
       "      <td id=\"T_3fb6f_row7_col3\" class=\"data row7 col3\" >-0.110000</td>\n",
       "      <td id=\"T_3fb6f_row7_col4\" class=\"data row7 col4\" >-0.040000</td>\n",
       "      <td id=\"T_3fb6f_row7_col5\" class=\"data row7 col5\" >0.040000</td>\n",
       "      <td id=\"T_3fb6f_row7_col6\" class=\"data row7 col6\" >0.030000</td>\n",
       "      <td id=\"T_3fb6f_row7_col7\" class=\"data row7 col7\" >1.000000</td>\n",
       "      <td id=\"T_3fb6f_row7_col8\" class=\"data row7 col8\" >0.240000</td>\n",
       "    </tr>\n",
       "    <tr>\n",
       "      <th id=\"T_3fb6f_level0_row8\" class=\"row_heading level0 row8\" >Outcome</th>\n",
       "      <td id=\"T_3fb6f_row8_col0\" class=\"data row8 col0\" >0.220000</td>\n",
       "      <td id=\"T_3fb6f_row8_col1\" class=\"data row8 col1\" >0.470000</td>\n",
       "      <td id=\"T_3fb6f_row8_col2\" class=\"data row8 col2\" >0.070000</td>\n",
       "      <td id=\"T_3fb6f_row8_col3\" class=\"data row8 col3\" >0.070000</td>\n",
       "      <td id=\"T_3fb6f_row8_col4\" class=\"data row8 col4\" >0.130000</td>\n",
       "      <td id=\"T_3fb6f_row8_col5\" class=\"data row8 col5\" >0.290000</td>\n",
       "      <td id=\"T_3fb6f_row8_col6\" class=\"data row8 col6\" >0.170000</td>\n",
       "      <td id=\"T_3fb6f_row8_col7\" class=\"data row8 col7\" >0.240000</td>\n",
       "      <td id=\"T_3fb6f_row8_col8\" class=\"data row8 col8\" >1.000000</td>\n",
       "    </tr>\n",
       "  </tbody>\n",
       "</table>\n"
      ],
      "text/plain": [
       "<pandas.io.formats.style.Styler at 0x1c9d3f431d0>"
      ]
     },
     "execution_count": 336,
     "metadata": {},
     "output_type": "execute_result"
    }
   ],
   "source": [
    "import pandas as pd\n",
    "import matplotlib.pyplot as plt\n",
    "import seaborn as sns\n",
    "import numpy as np\n",
    "file = r\"C:\\Users\\samam\\Desktop\\stat. project\\Diabetes Dataset.csv\"\n",
    "dataset = pd.read_csv(file)\n",
    "matrix=dataset.corr().round(2)\n",
    "print(dataset.head())\n",
    "matrix.style.background_gradient(cmap='pink')\n"
   ]
  },
  {
   "cell_type": "code",
   "execution_count": 338,
   "id": "2f13a59d-b163-40cd-9ab7-cbf5c6284cad",
   "metadata": {},
   "outputs": [],
   "source": [
    "#array al top triangle is all true and the bottom is all false w hteto fe variable x\n",
    "x=np.triu(np.ones_like(matrix,dtype=bool))"
   ]
  },
  {
   "cell_type": "code",
   "execution_count": 340,
   "id": "619589af-3eab-4306-b7ed-8dc3adec6fba",
   "metadata": {},
   "outputs": [
    {
     "data": {
      "text/plain": [
       "<Axes: >"
      ]
     },
     "execution_count": 340,
     "metadata": {},
     "output_type": "execute_result"
    },
    {
     "data": {
      "image/png": "[encoded data removed]",
      "text/plain": [
       "<Figure size 640x480 with 2 Axes>"
      ]
     },
     "metadata": {},
     "output_type": "display_data"
    }
   ],
   "source": [
    "#to make scale go down to 0 and a3la haga =1 (vmax and vmin)\n",
    "#to make the number appear we used annot\n",
    "#mask = x the bottom half od the heatmap\n",
    "sns.heatmap(matrix,vmin=0, vmax=1 , annot=True ,mask=x)"
   ]
  },
  {
   "cell_type": "markdown",
   "id": "d155708f-4827-4fb3-8fca-dcd82a83c0ab",
   "metadata": {},
   "source": [
    "#scatter plot"
   ]
  },
  {
   "cell_type": "code",
   "execution_count": 342,
   "id": "937d0b0b-4333-4735-b19b-93471f7128f8",
   "metadata": {},
   "outputs": [
    {
     "data": {
      "image/png": "[encoded data removed]",
      "text/plain": [
       "<Figure size 800x600 with 1 Axes>"
      ]
     },
     "metadata": {},
     "output_type": "display_data"
    }
   ],
   "source": [
    "Bmi=dataset['BMI']\n",
    "blood_pressure=dataset['BloodPressure']\n",
    "plt.figure(figsize=(8, 6))\n",
    "plt.scatter(blood_pressure , Bmi ,c='purple', edgecolor='pink')\n",
    "plt.title('relation between blood pressure and Bmi')\n",
    "plt.xlabel('blood_pressure')\n",
    "plt.ylabel('Bmi')\n",
    "plt.show()"
   ]
  },
  {
   "cell_type": "markdown",
   "id": "507f9743-eb15-4f57-b7b0-c5e668d13520",
   "metadata": {},
   "source": [
    "#pie_chart\n"
   ]
  },
  {
   "cell_type": "code",
   "execution_count": 166,
   "id": "902a7cbb-b8aa-4898-9bb0-7b3eccf57936",
   "metadata": {},
   "outputs": [
    {
     "data": {
      "image/png": "[encoded data removed]",
      "text/plain": [
       "<Figure size 800x600 with 1 Axes>"
      ]
     },
     "metadata": {},
     "output_type": "display_data"
    }
   ],
   "source": [
    "plt.figure(figsize=(8, 6))\n",
    "outcome = dataset['Outcome'].value_counts()\n",
    "label=['no diabetes', 'diabetes']\n",
    "plt.pie(outcome, labels=label , autopct='%1.1f%%', colors=['lightblue', 'pink'])\n",
    "plt.title(\"Outcome of diabetes VS no diabetes\")\n",
    "plt.show()"
   ]
  },
  {
   "cell_type": "markdown",
   "id": "f3c54c79-1ee8-4485-b1d8-78b8a66b8059",
   "metadata": {},
   "source": [
    "distribution plot"
   ]
  },
  {
   "cell_type": "code",
   "execution_count": 215,
   "id": "72e19dc4-9658-4137-9b3f-a2df2ba0b592",
   "metadata": {},
   "outputs": [
    {
     "data": {
      "image/png": "[encoded data removed]",
      "text/plain": [
       "<Figure size 800x600 with 1 Axes>"
      ]
     },
     "metadata": {},
     "output_type": "display_data"
    },
    {
     "data": {
      "image/png": "[encoded data removed]",
      "text/plain": [
       "<Figure size 800x600 with 1 Axes>"
      ]
     },
     "metadata": {},
     "output_type": "display_data"
    },
    {
     "data": {
      "image/png": "[encoded data removed]",
      "text/plain": [
       "<Figure size 800x600 with 1 Axes>"
      ]
     },
     "metadata": {},
     "output_type": "display_data"
    }
   ],
   "source": [
    "\n",
    "# Pregnancies\n",
    "plt.figure(figsize=(8, 6))\n",
    "sns.histplot(dataset['Pregnancies'], color='pink', kde=True)\n",
    "plt.title('distribution plot Pregnancies')\n",
    "plt.xlabel('Pregnancies')\n",
    "plt.ylabel('Frequency')\n",
    "plt.show()\n",
    "\n",
    "#  SkinThickness\n",
    "plt.figure(figsize=(8, 6))\n",
    "sns.histplot(dataset['SkinThickness'], kde=True, color='lightblue')\n",
    "plt.title('distribution plot SkinThickness')\n",
    "plt.xlabel('SkinThickness')\n",
    "plt.ylabel('Frequency')\n",
    "plt.show()\n",
    "\n",
    "#Age\n",
    "plt.figure(figsize=(8, 6))\n",
    "sns.histplot(dataset['Age'], color='red', kde=True)\n",
    "plt.title('distribution plot Age')\n",
    "plt.xlabel('Age')\n",
    "plt.ylabel('Frequency')\n",
    "plt.show()\n"
   ]
  },
  {
   "cell_type": "code",
   "execution_count": 477,
   "id": "17b93ddb-4c9f-4c0b-9231-87eab153e119",
   "metadata": {},
   "outputs": [
    {
     "name": "stdout",
     "output_type": "stream",
     "text": [
      "{0.0}\n",
      "{23.0}\n",
      "{32.0}\n"
     ]
    },
    {
     "data": {
      "image/png": "[encoded data removed]",
      "text/plain": [
       "<Figure size 640x480 with 1 Axes>"
      ]
     },
     "metadata": {},
     "output_type": "display_data"
    }
   ],
   "source": [
    "#SkinThickness Boxplot\n",
    "dataset.boxplot(column='SkinThickness')\n",
    "plt.title('Box Plot')\n",
    "plt.ylabel('Value')\n",
    "q1 = dataset['SkinThickness'].quantile(0.25)\n",
    "q2 = dataset['SkinThickness'].quantile(0.50)  \n",
    "q3 = dataset['SkinThickness'].quantile(0.75)\n",
    "\n",
    "print({q1})\n",
    "print({q2})\n",
    "print({q3})"
   ]
  },
  {
   "cell_type": "code",
   "execution_count": 479,
   "id": "7993d18d-95e5-4825-aae4-20f91d52afca",
   "metadata": {},
   "outputs": [
    {
     "name": "stdout",
     "output_type": "stream",
     "text": [
      "{0.24375}\n",
      "{0.3725}\n",
      "{0.62625}\n"
     ]
    },
    {
     "data": {
      "image/png": "[encoded data removed]",
      "text/plain": [
       "<Figure size 640x480 with 1 Axes>"
      ]
     },
     "metadata": {},
     "output_type": "display_data"
    }
   ],
   "source": [
    "#DiabetesPedigreeFunction Boxplot\n",
    "dataset.boxplot(column='DiabetesPedigreeFunction')\n",
    "plt.title('Box Plot')\n",
    "plt.ylabel('Value')\n",
    "q1 = dataset['DiabetesPedigreeFunction'].quantile(0.25)\n",
    "q2 = dataset['DiabetesPedigreeFunction'].quantile(0.50)  \n",
    "q3 = dataset['DiabetesPedigreeFunction'].quantile(0.75)\n",
    "\n",
    "print({q1})\n",
    "print({q2})\n",
    "print({q3})"
   ]
  },
  {
   "cell_type": "code",
   "execution_count": 481,
   "id": "c43ecdf9-2fa0-4baa-acf9-157f3458d89e",
   "metadata": {},
   "outputs": [
    {
     "name": "stdout",
     "output_type": "stream",
     "text": [
      "{62.0}\n",
      "{72.0}\n",
      "{80.0}\n"
     ]
    },
    {
     "data": {
      "image/png": "[encoded data removed]",
      "text/plain": [
       "<Figure size 640x480 with 1 Axes>"
      ]
     },
     "metadata": {},
     "output_type": "display_data"
    }
   ],
   "source": [
    "#BloodPressure Boxplot\n",
    "dataset.boxplot(column='BloodPressure')\n",
    "plt.title('Box Plot')\n",
    "plt.ylabel('Value')\n",
    "q1 = dataset['BloodPressure'].quantile(0.25)\n",
    "q2 = dataset['BloodPressure'].quantile(0.50)  \n",
    "q3 = dataset['BloodPressure'].quantile(0.75)\n",
    "\n",
    "print({q1})\n",
    "print({q2})\n",
    "print({q3})"
   ]
  },
  {
   "cell_type": "code",
   "execution_count": 301,
   "id": "8bc0a6ab-17d5-44e8-890c-64b100cd4b4e",
   "metadata": {},
   "outputs": [],
   "source": [
    "import statistics as st"
   ]
  },
  {
   "cell_type": "markdown",
   "id": "5ecb3b07-6310-46b9-a212-07e1a1506471",
   "metadata": {},
   "source": [
    "Central Tendency and Dispersion:"
   ]
  },
  {
   "cell_type": "markdown",
   "id": "6ff90d86-bd25-4034-80c6-7c335b48dbc1",
   "metadata": {},
   "source": [
    "1)Pregnancies"
   ]
  },
  {
   "cell_type": "code",
   "execution_count": 303,
   "id": "3376ec30-a193-4bef-b8f9-98efba7ef79c",
   "metadata": {},
   "outputs": [],
   "source": [
    "preg=dataset.Pregnancies"
   ]
  },
  {
   "cell_type": "code",
   "execution_count": 305,
   "id": "71de1472-e8c8-4a8a-957b-7243f90b43c3",
   "metadata": {},
   "outputs": [
    {
     "data": {
      "text/plain": [
       "3.8450520833333335"
      ]
     },
     "execution_count": 305,
     "metadata": {},
     "output_type": "execute_result"
    }
   ],
   "source": [
    "st.mean(preg)"
   ]
  },
  {
   "cell_type": "code",
   "execution_count": 307,
   "id": "91ff1683-8561-4b72-889b-9a21b06129da",
   "metadata": {},
   "outputs": [
    {
     "data": {
      "text/plain": [
       "3.0"
      ]
     },
     "execution_count": 307,
     "metadata": {},
     "output_type": "execute_result"
    }
   ],
   "source": [
    "st.median(preg)"
   ]
  },
  {
   "cell_type": "code",
   "execution_count": 309,
   "id": "92841f40-989e-4faa-9075-47340a8bdf3c",
   "metadata": {},
   "outputs": [
    {
     "data": {
      "text/plain": [
       "1"
      ]
     },
     "execution_count": 309,
     "metadata": {},
     "output_type": "execute_result"
    }
   ],
   "source": [
    "st.mode(preg)"
   ]
  },
  {
   "cell_type": "code",
   "execution_count": 311,
   "id": "70b56bb4-02ea-4439-9835-912b84212bb0",
   "metadata": {},
   "outputs": [
    {
     "data": {
      "text/plain": [
       "3.3673836124089886"
      ]
     },
     "execution_count": 311,
     "metadata": {},
     "output_type": "execute_result"
    }
   ],
   "source": [
    "np.std(preg)"
   ]
  },
  {
   "cell_type": "code",
   "execution_count": 313,
   "id": "6b281732-c461-405b-8ebf-e6e97061219d",
   "metadata": {},
   "outputs": [
    {
     "data": {
      "text/plain": [
       "11.33927239312061"
      ]
     },
     "execution_count": 313,
     "metadata": {},
     "output_type": "execute_result"
    }
   ],
   "source": [
    "np.var(preg)"
   ]
  },
  {
   "cell_type": "code",
   "execution_count": 315,
   "id": "14262c02-8c19-4bbf-a0d6-960a5ce814de",
   "metadata": {},
   "outputs": [
    {
     "data": {
      "text/plain": [
       "0"
      ]
     },
     "execution_count": 315,
     "metadata": {},
     "output_type": "execute_result"
    }
   ],
   "source": [
    "np.min(preg)"
   ]
  },
  {
   "cell_type": "code",
   "execution_count": 317,
   "id": "d0a1ec58-2e78-4cba-9119-b33d76d77f8d",
   "metadata": {},
   "outputs": [
    {
     "data": {
      "text/plain": [
       "17"
      ]
     },
     "execution_count": 317,
     "metadata": {},
     "output_type": "execute_result"
    }
   ],
   "source": [
    "np.max(preg)"
   ]
  },
  {
   "cell_type": "markdown",
   "id": "76679481-5b9f-4fe0-8f3f-7e79062116b4",
   "metadata": {},
   "source": [
    "2)Glucose"
   ]
  },
  {
   "cell_type": "code",
   "execution_count": 274,
   "id": "20ecf5ec-ed90-48d7-9874-453c6d7819f2",
   "metadata": {},
   "outputs": [],
   "source": [
    "\n",
    "gluc=dataset.Glucose"
   ]
  },
  {
   "cell_type": "code",
   "execution_count": 276,
   "id": "3b207f30-6469-41db-b5da-9cae8dc45232",
   "metadata": {},
   "outputs": [
    {
     "data": {
      "text/plain": [
       "120.89453125"
      ]
     },
     "execution_count": 276,
     "metadata": {},
     "output_type": "execute_result"
    }
   ],
   "source": [
    "st.mean(gluc)"
   ]
  },
  {
   "cell_type": "code",
   "execution_count": 278,
   "id": "21a9a480-54c6-4d32-acb5-98230aaf32e8",
   "metadata": {},
   "outputs": [
    {
     "data": {
      "text/plain": [
       "117.0"
      ]
     },
     "execution_count": 278,
     "metadata": {},
     "output_type": "execute_result"
    }
   ],
   "source": [
    "st.median(gluc)"
   ]
  },
  {
   "cell_type": "code",
   "execution_count": 280,
   "id": "16e1c3be-203d-4a00-b738-2add5d66a56f",
   "metadata": {},
   "outputs": [
    {
     "data": {
      "text/plain": [
       "100"
      ]
     },
     "execution_count": 280,
     "metadata": {},
     "output_type": "execute_result"
    }
   ],
   "source": [
    "st.mode(gluc)"
   ]
  },
  {
   "cell_type": "code",
   "execution_count": 282,
   "id": "1ef8db53-afb6-43cb-ab85-696279d455aa",
   "metadata": {},
   "outputs": [
    {
     "data": {
      "text/plain": [
       "31.95179590820272"
      ]
     },
     "execution_count": 282,
     "metadata": {},
     "output_type": "execute_result"
    }
   ],
   "source": [
    "np.std(gluc)"
   ]
  },
  {
   "cell_type": "code",
   "execution_count": 284,
   "id": "e4ba35af-bf3a-424e-9c3b-85f2dfaea8e6",
   "metadata": {},
   "outputs": [
    {
     "data": {
      "text/plain": [
       "1020.9172617594401"
      ]
     },
     "execution_count": 284,
     "metadata": {},
     "output_type": "execute_result"
    }
   ],
   "source": [
    "np.var(gluc)"
   ]
  },
  {
   "cell_type": "code",
   "execution_count": 286,
   "id": "bbd29be5-df03-494f-beb6-5c734ee63aa1",
   "metadata": {},
   "outputs": [
    {
     "data": {
      "text/plain": [
       "0"
      ]
     },
     "execution_count": 286,
     "metadata": {},
     "output_type": "execute_result"
    }
   ],
   "source": [
    "np.min(gluc)"
   ]
  },
  {
   "cell_type": "code",
   "execution_count": 288,
   "id": "c63f4ed0-81ba-412e-86e2-f552d332ba06",
   "metadata": {},
   "outputs": [
    {
     "data": {
      "text/plain": [
       "199"
      ]
     },
     "execution_count": 288,
     "metadata": {},
     "output_type": "execute_result"
    }
   ],
   "source": [
    "np.max(gluc)"
   ]
  },
  {
   "cell_type": "markdown",
   "id": "2d8a5f24-8ee0-4efa-852c-0836f7b7e4cb",
   "metadata": {},
   "source": [
    "#Blood Pressure"
   ]
  },
  {
   "cell_type": "code",
   "execution_count": 320,
   "id": "271bd38b-7dac-400c-84d9-5b81e69ac72e",
   "metadata": {},
   "outputs": [],
   "source": [
    "bp=dataset.BloodPressure"
   ]
  },
  {
   "cell_type": "code",
   "execution_count": 322,
   "id": "9683fcda-b1bd-4a63-b891-6dfba8748fe5",
   "metadata": {},
   "outputs": [
    {
     "data": {
      "text/plain": [
       "69.10546875"
      ]
     },
     "execution_count": 322,
     "metadata": {},
     "output_type": "execute_result"
    }
   ],
   "source": [
    "st.mean(bp)"
   ]
  },
  {
   "cell_type": "code",
   "execution_count": 324,
   "id": "15e30d28-4ade-4f69-8cbd-4e8b2ad25a72",
   "metadata": {},
   "outputs": [
    {
     "data": {
      "text/plain": [
       "72.0"
      ]
     },
     "execution_count": 324,
     "metadata": {},
     "output_type": "execute_result"
    }
   ],
   "source": [
    "st.median(bp)"
   ]
  },
  {
   "cell_type": "code",
   "execution_count": 326,
   "id": "cd00a1d0-b71d-46d1-b963-1261213032ff",
   "metadata": {},
   "outputs": [
    {
     "data": {
      "text/plain": [
       "70"
      ]
     },
     "execution_count": 326,
     "metadata": {},
     "output_type": "execute_result"
    }
   ],
   "source": [
    "st.mode(bp)"
   ]
  },
  {
   "cell_type": "code",
   "execution_count": 328,
   "id": "ca6e7207-7406-4c1d-9ec0-02e34aeefbfe",
   "metadata": {},
   "outputs": [
    {
     "data": {
      "text/plain": [
       "19.343201628981696"
      ]
     },
     "execution_count": 328,
     "metadata": {},
     "output_type": "execute_result"
    }
   ],
   "source": [
    "np.std(bp)"
   ]
  },
  {
   "cell_type": "code",
   "execution_count": 330,
   "id": "93d96dfb-2674-4443-b13b-157c7ee24c5e",
   "metadata": {},
   "outputs": [
    {
     "data": {
      "text/plain": [
       "374.1594492594401"
      ]
     },
     "execution_count": 330,
     "metadata": {},
     "output_type": "execute_result"
    }
   ],
   "source": [
    "np.var(bp)"
   ]
  },
  {
   "cell_type": "code",
   "execution_count": 332,
   "id": "e664467f-4fb8-40a5-92e3-21893fce3e8e",
   "metadata": {},
   "outputs": [
    {
     "data": {
      "text/plain": [
       "0"
      ]
     },
     "execution_count": 332,
     "metadata": {},
     "output_type": "execute_result"
    }
   ],
   "source": [
    "np.min(bp)"
   ]
  },
  {
   "cell_type": "code",
   "execution_count": 334,
   "id": "e4fbcbae-8c77-4fb4-af40-0783b305afd1",
   "metadata": {},
   "outputs": [
    {
     "data": {
      "text/plain": [
       "122"
      ]
     },
     "execution_count": 334,
     "metadata": {},
     "output_type": "execute_result"
    }
   ],
   "source": [
    "np.max(bp)"
   ]
  },
  {
   "cell_type": "markdown",
   "id": "bc2fa3ad-b15e-4039-b427-8b5744839545",
   "metadata": {},
   "source": [
    "#Skin Thickness"
   ]
  },
  {
   "cell_type": "code",
   "execution_count": 351,
   "id": "e5e5f44f-de5f-4aa4-b23e-000a1efabffc",
   "metadata": {},
   "outputs": [],
   "source": [
    "skin=dataset.SkinThickness\n"
   ]
  },
  {
   "cell_type": "code",
   "execution_count": 353,
   "id": "0f961229-57da-4fe9-a490-7830c23110b7",
   "metadata": {},
   "outputs": [
    {
     "data": {
      "text/plain": [
       "20.536458333333332"
      ]
     },
     "execution_count": 353,
     "metadata": {},
     "output_type": "execute_result"
    }
   ],
   "source": [
    "st.mean(skin)"
   ]
  },
  {
   "cell_type": "code",
   "execution_count": 355,
   "id": "c54c73ea-ae4e-47ba-aedc-74dc0c29883e",
   "metadata": {},
   "outputs": [
    {
     "data": {
      "text/plain": [
       "23.0"
      ]
     },
     "execution_count": 355,
     "metadata": {},
     "output_type": "execute_result"
    }
   ],
   "source": [
    "st.median(skin)"
   ]
  },
  {
   "cell_type": "code",
   "execution_count": 357,
   "id": "1ea1a2df-582b-4849-9d6f-61eb9aa798a2",
   "metadata": {},
   "outputs": [
    {
     "data": {
      "text/plain": [
       "0"
      ]
     },
     "execution_count": 357,
     "metadata": {},
     "output_type": "execute_result"
    }
   ],
   "source": [
    "st.mode(skin)"
   ]
  },
  {
   "cell_type": "code",
   "execution_count": 359,
   "id": "4ff74639-44eb-486d-8686-b13f99758d38",
   "metadata": {},
   "outputs": [
    {
     "data": {
      "text/plain": [
       "15.941828626496978"
      ]
     },
     "execution_count": 359,
     "metadata": {},
     "output_type": "execute_result"
    }
   ],
   "source": [
    "np.std(skin)"
   ]
  },
  {
   "cell_type": "code",
   "execution_count": 361,
   "id": "5167fe24-4981-413e-93a6-d1dc01c29b19",
   "metadata": {},
   "outputs": [
    {
     "data": {
      "text/plain": [
       "254.14189995659854"
      ]
     },
     "execution_count": 361,
     "metadata": {},
     "output_type": "execute_result"
    }
   ],
   "source": [
    "np.var(skin)"
   ]
  },
  {
   "cell_type": "code",
   "execution_count": 363,
   "id": "02d8bcb1-b1fe-4a8e-b4dd-826367d74aff",
   "metadata": {},
   "outputs": [
    {
     "data": {
      "text/plain": [
       "0"
      ]
     },
     "execution_count": 363,
     "metadata": {},
     "output_type": "execute_result"
    }
   ],
   "source": [
    "np.min(skin)"
   ]
  },
  {
   "cell_type": "code",
   "execution_count": 365,
   "id": "60658951-a0c7-401d-aa7e-dffccd081bd1",
   "metadata": {},
   "outputs": [
    {
     "data": {
      "text/plain": [
       "99"
      ]
     },
     "execution_count": 365,
     "metadata": {},
     "output_type": "execute_result"
    }
   ],
   "source": [
    "np.max(skin)"
   ]
  },
  {
   "cell_type": "markdown",
   "id": "46a1ed84-fe8f-4c1c-b9a1-9374da9aab76",
   "metadata": {},
   "source": [
    "Insulin"
   ]
  },
  {
   "cell_type": "code",
   "execution_count": 368,
   "id": "40ac0586-cee0-493e-85c1-634dd642ef85",
   "metadata": {},
   "outputs": [],
   "source": [
    "ins=dataset.Insulin"
   ]
  },
  {
   "cell_type": "code",
   "execution_count": 370,
   "id": "5477f17b-bb0f-47fa-9cd4-bc6ab9a96b05",
   "metadata": {},
   "outputs": [
    {
     "data": {
      "text/plain": [
       "79.79947916666667"
      ]
     },
     "execution_count": 370,
     "metadata": {},
     "output_type": "execute_result"
    }
   ],
   "source": [
    "st.mean(ins)"
   ]
  },
  {
   "cell_type": "code",
   "execution_count": 372,
   "id": "5211ac46-1497-4aef-b77c-7524cb8b8a92",
   "metadata": {},
   "outputs": [
    {
     "data": {
      "text/plain": [
       "30.5"
      ]
     },
     "execution_count": 372,
     "metadata": {},
     "output_type": "execute_result"
    }
   ],
   "source": [
    "st.median(ins)"
   ]
  },
  {
   "cell_type": "code",
   "execution_count": 374,
   "id": "50a39fe6-d669-4408-a50a-7acbea297d4e",
   "metadata": {},
   "outputs": [
    {
     "data": {
      "text/plain": [
       "0"
      ]
     },
     "execution_count": 374,
     "metadata": {},
     "output_type": "execute_result"
    }
   ],
   "source": [
    "st.mode(ins)"
   ]
  },
  {
   "cell_type": "code",
   "execution_count": 376,
   "id": "7d4ead09-2532-4ca8-aca3-180fa53ae5c1",
   "metadata": {},
   "outputs": [
    {
     "data": {
      "text/plain": [
       "115.1689492646728"
      ]
     },
     "execution_count": 376,
     "metadata": {},
     "output_type": "execute_result"
    }
   ],
   "source": [
    "np.std(ins)"
   ]
  },
  {
   "cell_type": "code",
   "execution_count": 378,
   "id": "be94e065-5182-4d2b-8747-95cf7748c0bf",
   "metadata": {},
   "outputs": [
    {
     "data": {
      "text/plain": [
       "13263.886874728778"
      ]
     },
     "execution_count": 378,
     "metadata": {},
     "output_type": "execute_result"
    }
   ],
   "source": [
    "np.var(ins)"
   ]
  },
  {
   "cell_type": "code",
   "execution_count": 380,
   "id": "7713b21a-4bad-450f-862a-8c513980b970",
   "metadata": {},
   "outputs": [
    {
     "data": {
      "text/plain": [
       "0"
      ]
     },
     "execution_count": 380,
     "metadata": {},
     "output_type": "execute_result"
    }
   ],
   "source": [
    "np.min(ins)"
   ]
  },
  {
   "cell_type": "code",
   "execution_count": 382,
   "id": "cbcc438a-8efb-4d4a-a83e-c519e91c34ee",
   "metadata": {},
   "outputs": [
    {
     "data": {
      "text/plain": [
       "846"
      ]
     },
     "execution_count": 382,
     "metadata": {},
     "output_type": "execute_result"
    }
   ],
   "source": [
    "np.max(ins)"
   ]
  },
  {
   "cell_type": "markdown",
   "id": "7f9ca365-e014-4442-b527-57d0fd58c50d",
   "metadata": {},
   "source": [
    "#BMI"
   ]
  },
  {
   "cell_type": "code",
   "execution_count": 386,
   "id": "bdd509b5-9066-4eb8-8c78-de99fa184e31",
   "metadata": {},
   "outputs": [],
   "source": [
    "bmi=dataset.BMI"
   ]
  },
  {
   "cell_type": "code",
   "execution_count": 388,
   "id": "8868bd2a-00b7-476e-afd8-2c8b9b6bb472",
   "metadata": {},
   "outputs": [
    {
     "data": {
      "text/plain": [
       "31.992578125"
      ]
     },
     "execution_count": 388,
     "metadata": {},
     "output_type": "execute_result"
    }
   ],
   "source": [
    "st.mean(bmi)"
   ]
  },
  {
   "cell_type": "code",
   "execution_count": 390,
   "id": "ee942caa-b61c-432e-bfee-fe19cae2ed7d",
   "metadata": {},
   "outputs": [
    {
     "data": {
      "text/plain": [
       "32.0"
      ]
     },
     "execution_count": 390,
     "metadata": {},
     "output_type": "execute_result"
    }
   ],
   "source": [
    "st.median(bmi)"
   ]
  },
  {
   "cell_type": "code",
   "execution_count": 392,
   "id": "118d56f1-5a51-4096-9927-93726bb2dc1b",
   "metadata": {},
   "outputs": [
    {
     "data": {
      "text/plain": [
       "32.0"
      ]
     },
     "execution_count": 392,
     "metadata": {},
     "output_type": "execute_result"
    }
   ],
   "source": [
    "st.mode(bmi)"
   ]
  },
  {
   "cell_type": "code",
   "execution_count": 394,
   "id": "7a792cfa-6242-499b-b5dd-89f6cbe72a99",
   "metadata": {},
   "outputs": [
    {
     "data": {
      "text/plain": [
       "7.879025731540125"
      ]
     },
     "execution_count": 394,
     "metadata": {},
     "output_type": "execute_result"
    }
   ],
   "source": [
    "np.std(bmi)"
   ]
  },
  {
   "cell_type": "code",
   "execution_count": 396,
   "id": "b89d462d-4640-4835-8430-2ee8c6334931",
   "metadata": {},
   "outputs": [
    {
     "data": {
      "text/plain": [
       "62.0790464782714"
      ]
     },
     "execution_count": 396,
     "metadata": {},
     "output_type": "execute_result"
    }
   ],
   "source": [
    "np.var(bmi)"
   ]
  },
  {
   "cell_type": "code",
   "execution_count": 398,
   "id": "609e4dc3-753a-4f03-8b70-6b072f5e229d",
   "metadata": {},
   "outputs": [
    {
     "data": {
      "text/plain": [
       "0.0"
      ]
     },
     "execution_count": 398,
     "metadata": {},
     "output_type": "execute_result"
    }
   ],
   "source": [
    "np.min(bmi)"
   ]
  },
  {
   "cell_type": "code",
   "execution_count": 400,
   "id": "5979fa12-bf56-4d2b-9707-55de04d48113",
   "metadata": {},
   "outputs": [
    {
     "data": {
      "text/plain": [
       "67.1"
      ]
     },
     "execution_count": 400,
     "metadata": {},
     "output_type": "execute_result"
    }
   ],
   "source": [
    "np.max(bmi)"
   ]
  },
  {
   "cell_type": "markdown",
   "id": "3ee13373-447b-4d01-9223-fcfe5a134f4c",
   "metadata": {},
   "source": [
    "#DiabetesPedigreeFunction"
   ]
  },
  {
   "cell_type": "code",
   "execution_count": 404,
   "id": "747e723c-8e32-4703-aa49-4a2bb4900d0a",
   "metadata": {},
   "outputs": [],
   "source": [
    "dpf=dataset.DiabetesPedigreeFunction"
   ]
  },
  {
   "cell_type": "code",
   "execution_count": 406,
   "id": "6de4906a-01be-46b1-8a94-352c43bd9034",
   "metadata": {},
   "outputs": [
    {
     "data": {
      "text/plain": [
       "0.4718763020833333"
      ]
     },
     "execution_count": 406,
     "metadata": {},
     "output_type": "execute_result"
    }
   ],
   "source": [
    "st.mean(dpf)"
   ]
  },
  {
   "cell_type": "code",
   "execution_count": 408,
   "id": "c66e6e12-8d7c-4ae9-9610-fab5d64beb8f",
   "metadata": {},
   "outputs": [
    {
     "data": {
      "text/plain": [
       "0.3725"
      ]
     },
     "execution_count": 408,
     "metadata": {},
     "output_type": "execute_result"
    }
   ],
   "source": [
    "st.median(dpf)"
   ]
  },
  {
   "cell_type": "code",
   "execution_count": 410,
   "id": "7fe8ebda-0f37-45f4-9b44-6c45f34467aa",
   "metadata": {},
   "outputs": [
    {
     "data": {
      "text/plain": [
       "0.254"
      ]
     },
     "execution_count": 410,
     "metadata": {},
     "output_type": "execute_result"
    }
   ],
   "source": [
    "st.mode(dpf)"
   ]
  },
  {
   "cell_type": "code",
   "execution_count": 412,
   "id": "f22bc146-d4f2-4123-97de-9388c441fd1f",
   "metadata": {},
   "outputs": [
    {
     "data": {
      "text/plain": [
       "0.331112816028629"
      ]
     },
     "execution_count": 412,
     "metadata": {},
     "output_type": "execute_result"
    }
   ],
   "source": [
    "np.std(dpf)"
   ]
  },
  {
   "cell_type": "code",
   "execution_count": 414,
   "id": "449afee7-9571-4d26-afd6-23ae53f10bfc",
   "metadata": {},
   "outputs": [
    {
     "data": {
      "text/plain": [
       "0.10963569693840873"
      ]
     },
     "execution_count": 414,
     "metadata": {},
     "output_type": "execute_result"
    }
   ],
   "source": [
    "np.var(dpf)"
   ]
  },
  {
   "cell_type": "code",
   "execution_count": 416,
   "id": "18c445de-5b9c-4572-8971-06b928f2d1ed",
   "metadata": {},
   "outputs": [
    {
     "data": {
      "text/plain": [
       "0.078"
      ]
     },
     "execution_count": 416,
     "metadata": {},
     "output_type": "execute_result"
    }
   ],
   "source": [
    "np.min(dpf)"
   ]
  },
  {
   "cell_type": "code",
   "execution_count": 418,
   "id": "ad635cdc-7044-498f-bd42-ecc1d1b2fa86",
   "metadata": {},
   "outputs": [
    {
     "data": {
      "text/plain": [
       "2.42"
      ]
     },
     "execution_count": 418,
     "metadata": {},
     "output_type": "execute_result"
    }
   ],
   "source": [
    "np.max(dpf)"
   ]
  },
  {
   "cell_type": "markdown",
   "id": "1f76eb7e-b4a6-4cea-808d-8bebad1e8fac",
   "metadata": {},
   "source": [
    "Age"
   ]
  },
  {
   "cell_type": "code",
   "execution_count": 421,
   "id": "8a2aca72-0f84-4817-ac17-ba31192a7812",
   "metadata": {},
   "outputs": [],
   "source": [
    "age=dataset.Age"
   ]
  },
  {
   "cell_type": "code",
   "execution_count": 423,
   "id": "602a0a6b-6249-4e39-99f8-1e68baf1d095",
   "metadata": {},
   "outputs": [
    {
     "data": {
      "text/plain": [
       "33.240885416666664"
      ]
     },
     "execution_count": 423,
     "metadata": {},
     "output_type": "execute_result"
    }
   ],
   "source": [
    "st.mean(age)"
   ]
  },
  {
   "cell_type": "code",
   "execution_count": 425,
   "id": "68f84501-af5d-4d02-8829-fd7cef4540f5",
   "metadata": {},
   "outputs": [
    {
     "data": {
      "text/plain": [
       "29.0"
      ]
     },
     "execution_count": 425,
     "metadata": {},
     "output_type": "execute_result"
    }
   ],
   "source": [
    "st.median(age)"
   ]
  },
  {
   "cell_type": "code",
   "execution_count": 427,
   "id": "82a8c35f-b90a-4fb0-8bd5-ccf9b28fc2dd",
   "metadata": {},
   "outputs": [
    {
     "data": {
      "text/plain": [
       "22"
      ]
     },
     "execution_count": 427,
     "metadata": {},
     "output_type": "execute_result"
    }
   ],
   "source": [
    "st.mode(dataset.Age)"
   ]
  },
  {
   "cell_type": "code",
   "execution_count": 429,
   "id": "d21065d4-382a-497a-bf5f-b640d2057a6a",
   "metadata": {},
   "outputs": [
    {
     "data": {
      "text/plain": [
       "11.752572645994178"
      ]
     },
     "execution_count": 429,
     "metadata": {},
     "output_type": "execute_result"
    }
   ],
   "source": [
    "np.std(age)"
   ]
  },
  {
   "cell_type": "code",
   "execution_count": 431,
   "id": "9db0f72e-af68-4a39-91d9-97c9489c13f2",
   "metadata": {},
   "outputs": [
    {
     "data": {
      "text/plain": [
       "138.12296379937058"
      ]
     },
     "execution_count": 431,
     "metadata": {},
     "output_type": "execute_result"
    }
   ],
   "source": [
    "np.var(age)"
   ]
  },
  {
   "cell_type": "code",
   "execution_count": 433,
   "id": "eb1de2c1-d270-4bfc-842e-796e6adbccff",
   "metadata": {},
   "outputs": [
    {
     "data": {
      "text/plain": [
       "21"
      ]
     },
     "execution_count": 433,
     "metadata": {},
     "output_type": "execute_result"
    }
   ],
   "source": [
    "np.min(age)"
   ]
  },
  {
   "cell_type": "code",
   "execution_count": 435,
   "id": "33269ef5-37fc-4458-a126-ea8a115ec82b",
   "metadata": {},
   "outputs": [
    {
     "data": {
      "text/plain": [
       "81"
      ]
     },
     "execution_count": 435,
     "metadata": {},
     "output_type": "execute_result"
    }
   ],
   "source": [
    "np.max(age)"
   ]
  },
  {
   "cell_type": "markdown",
   "id": "5d597ec2-77be-4b40-ae87-53bf871884cb",
   "metadata": {},
   "source": [
    "Outcome"
   ]
  },
  {
   "cell_type": "code",
   "execution_count": 440,
   "id": "43ff915d-840d-46e8-a673-54ee6b36c965",
   "metadata": {},
   "outputs": [],
   "source": [
    "out=dataset.Outcome"
   ]
  },
  {
   "cell_type": "code",
   "execution_count": 442,
   "id": "ad6704eb-c541-4afc-b7a0-60f4d7c44d2b",
   "metadata": {},
   "outputs": [
    {
     "data": {
      "text/plain": [
       "0.3489583333333333"
      ]
     },
     "execution_count": 442,
     "metadata": {},
     "output_type": "execute_result"
    }
   ],
   "source": [
    "st.mean(out)"
   ]
  },
  {
   "cell_type": "code",
   "execution_count": 444,
   "id": "4f38d710-06d5-4d26-bdf9-0e743e874384",
   "metadata": {},
   "outputs": [
    {
     "data": {
      "text/plain": [
       "0.0"
      ]
     },
     "execution_count": 444,
     "metadata": {},
     "output_type": "execute_result"
    }
   ],
   "source": [
    "st.median(out)"
   ]
  },
  {
   "cell_type": "code",
   "execution_count": 446,
   "id": "588b9c9d-0171-4578-8c5e-c7809f323298",
   "metadata": {},
   "outputs": [
    {
     "data": {
      "text/plain": [
       "0"
      ]
     },
     "execution_count": 446,
     "metadata": {},
     "output_type": "execute_result"
    }
   ],
   "source": [
    "st.mode(out)"
   ]
  },
  {
   "cell_type": "code",
   "execution_count": 448,
   "id": "212b9e6a-b796-44a7-b5af-00c081dec796",
   "metadata": {},
   "outputs": [
    {
     "data": {
      "text/plain": [
       "0.4766407608782046"
      ]
     },
     "execution_count": 448,
     "metadata": {},
     "output_type": "execute_result"
    }
   ],
   "source": [
    "np.std(out)"
   ]
  },
  {
   "cell_type": "code",
   "execution_count": 450,
   "id": "8b8f3d19-720c-40f6-a0d8-00acf9261fa2",
   "metadata": {},
   "outputs": [
    {
     "data": {
      "text/plain": [
       "0.22718641493055383"
      ]
     },
     "execution_count": 450,
     "metadata": {},
     "output_type": "execute_result"
    }
   ],
   "source": [
    "np.var(out)"
   ]
  },
  {
   "cell_type": "code",
   "execution_count": 452,
   "id": "7e6a85c3-73db-4fd2-8369-7608f2580e88",
   "metadata": {},
   "outputs": [
    {
     "data": {
      "text/plain": [
       "0"
      ]
     },
     "execution_count": 452,
     "metadata": {},
     "output_type": "execute_result"
    }
   ],
   "source": [
    "np.min(out)"
   ]
  },
  {
   "cell_type": "code",
   "execution_count": 454,
   "id": "1235556f-f98b-42d9-a3dd-b928f81e925b",
   "metadata": {},
   "outputs": [
    {
     "data": {
      "text/plain": [
       "1"
      ]
     },
     "execution_count": 454,
     "metadata": {},
     "output_type": "execute_result"
    }
   ],
   "source": [
    "np.max(out)"
   ]
  },
  {
   "cell_type": "code",
   "execution_count": null,
   "id": "4fb9ff91-f061-4898-b8e6-e1a2828f97fc",
   "metadata": {},
   "outputs": [],
   "source": []
  }
 ],
 "metadata": {
  "kernelspec": {
   "display_name": "Python 3 (ipykernel)",
   "language": "python",
   "name": "python3"
  },
  "language_info": {
   "codemirror_mode": {
    "name": "ipython",
    "version": 3
   },
   "file_extension": ".py",
   "mimetype": "text/x-python",
   "name": "python",
   "nbconvert_exporter": "python",
   "pygments_lexer": "ipython3",
   "version": "3.12.7"
  }
 },
 "nbformat": 4,
 "nbformat_minor": 5
}
